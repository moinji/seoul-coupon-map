{
 "cells": [
  {
   "cell_type": "code",
   "execution_count": 3,
   "id": "9e791c89",
   "metadata": {},
   "outputs": [],
   "source": [
    "!pip install requests beautifulsoup4 pandas tqdm --quiet\n"
   ]
  },
  {
   "cell_type": "code",
   "execution_count": 4,
   "id": "b6a1d1a4",
   "metadata": {},
   "outputs": [],
   "source": [
    "import time\n",
    "import requests\n",
    "import pandas as pd\n",
    "from bs4 import BeautifulSoup\n",
    "from tqdm.notebook import tqdm\n"
   ]
  },
  {
   "cell_type": "code",
   "execution_count": 5,
   "id": "628c60e4",
   "metadata": {},
   "outputs": [],
   "source": [
    "BASE_URL = \"https://www.sd.go.kr/main/webRecoveryCouponList.do\"\n",
    "HEADERS  = {\"User-Agent\":\"Mozilla/5.0 (Windows NT 10.0; Win64; x64)\"}\n",
    "KEY      = \"5269\"  # 성동구 key\n",
    "\n",
    "def scrape_page(page_idx):\n",
    "    params = {\n",
    "        \"searchName\":     \"\",      # 상호\n",
    "        \"searchEmdNm\":    \"\",      # 법정동\n",
    "        \"searchAddress\":  \"\",      # 주소\n",
    "        \"searchBizRegNo\": \"\",      # 사업자번호\n",
    "        \"key\":            KEY,\n",
    "        \"pageIndex\":      page_idx\n",
    "    }\n",
    "    resp = requests.get(BASE_URL, headers=HEADERS, params=params)\n",
    "    resp.raise_for_status()\n",
    "\n",
    "    soup = BeautifulSoup(resp.text, \"html.parser\")\n",
    "    out = []\n",
    "\n",
    "    for tr in soup.select(\"table.responsive tbody tr\"):\n",
    "        # <th>에 데이터가 들어 있으니 td, th 둘 다 가져옵니다\n",
    "        cells = tr.find_all([\"td\",\"th\"])\n",
    "        if len(cells) >= 3:\n",
    "            out.append({\n",
    "                \"상호\":   cells[0].get_text(strip=True),\n",
    "                \"소재지\": cells[1].get_text(strip=True),\n",
    "                \"주소\":   cells[2].get_text(strip=True)\n",
    "            })\n",
    "    return out"
   ]
  },
  {
   "cell_type": "code",
   "execution_count": 6,
   "id": "1e1ad825",
   "metadata": {},
   "outputs": [
    {
     "name": "stdout",
     "output_type": "stream",
     "text": [
      "1페이지 건수: 10\n"
     ]
    },
    {
     "data": {
      "text/plain": [
       "[{'상호': '거성레이져', '소재지': '성수동1가', '주소': '서울 성동구 상원길 23(성수동1가)'},\n",
       " {'상호': '명작 김진향한복', '소재지': '금호동4가', '주소': '서울 성동구 독서당로294, 2층 (금호동4가)'},\n",
       " {'상호': '남도집', '소재지': '도선동', '주소': '서울 성동구 왕십리로20길 9-1 (도선동)'},\n",
       " {'상호': '신도데이타', '소재지': '성수동2가', '주소': '서울 성동구 성수이로10길 81층(성수동2가)'},\n",
       " {'상호': '짱텔레콤', '소재지': '용답동', '주소': '서울 성동구 용답중앙15길 31층(용답동)'}]"
      ]
     },
     "execution_count": 6,
     "metadata": {},
     "output_type": "execute_result"
    }
   ],
   "source": [
    "sample = scrape_page(1)\n",
    "print(\"1페이지 건수:\", len(sample))\n",
    "sample[:5]\n"
   ]
  },
  {
   "cell_type": "code",
   "execution_count": 7,
   "id": "882170a9",
   "metadata": {},
   "outputs": [
    {
     "data": {
      "application/vnd.jupyter.widget-view+json": {
       "model_id": "a35ca5742bbe40c8bf4591c779169fb9",
       "version_major": 2,
       "version_minor": 0
      },
      "text/plain": [
       "페이지 스크래핑:   0%|          | 0/1681 [00:00<?, ?it/s]"
      ]
     },
     "metadata": {},
     "output_type": "display_data"
    },
    {
     "data": {
      "text/html": [
       "<div>\n",
       "<style scoped>\n",
       "    .dataframe tbody tr th:only-of-type {\n",
       "        vertical-align: middle;\n",
       "    }\n",
       "\n",
       "    .dataframe tbody tr th {\n",
       "        vertical-align: top;\n",
       "    }\n",
       "\n",
       "    .dataframe thead th {\n",
       "        text-align: right;\n",
       "    }\n",
       "</style>\n",
       "<table border=\"1\" class=\"dataframe\">\n",
       "  <thead>\n",
       "    <tr style=\"text-align: right;\">\n",
       "      <th></th>\n",
       "      <th>상호</th>\n",
       "      <th>소재지</th>\n",
       "      <th>주소</th>\n",
       "    </tr>\n",
       "  </thead>\n",
       "  <tbody>\n",
       "    <tr>\n",
       "      <th>0</th>\n",
       "      <td>거성레이져</td>\n",
       "      <td>성수동1가</td>\n",
       "      <td>서울 성동구 상원길 23(성수동1가)</td>\n",
       "    </tr>\n",
       "    <tr>\n",
       "      <th>1</th>\n",
       "      <td>명작 김진향한복</td>\n",
       "      <td>금호동4가</td>\n",
       "      <td>서울 성동구 독서당로294, 2층 (금호동4가)</td>\n",
       "    </tr>\n",
       "    <tr>\n",
       "      <th>2</th>\n",
       "      <td>남도집</td>\n",
       "      <td>도선동</td>\n",
       "      <td>서울 성동구 왕십리로20길 9-1 (도선동)</td>\n",
       "    </tr>\n",
       "    <tr>\n",
       "      <th>3</th>\n",
       "      <td>신도데이타</td>\n",
       "      <td>성수동2가</td>\n",
       "      <td>서울 성동구 성수이로10길 81층(성수동2가)</td>\n",
       "    </tr>\n",
       "    <tr>\n",
       "      <th>4</th>\n",
       "      <td>짱텔레콤</td>\n",
       "      <td>용답동</td>\n",
       "      <td>서울 성동구 용답중앙15길 31층(용답동)</td>\n",
       "    </tr>\n",
       "    <tr>\n",
       "      <th>5</th>\n",
       "      <td>법무사이두석사무소</td>\n",
       "      <td>성수동1가</td>\n",
       "      <td>서울 성동구 상원6나길 22-11, 205호 (성수동1가, 성동지역경제혁신센터)</td>\n",
       "    </tr>\n",
       "    <tr>\n",
       "      <th>6</th>\n",
       "      <td>김종용누룽지통닭</td>\n",
       "      <td>행당동</td>\n",
       "      <td>서울 성동구 마조로5길 7 1,2층</td>\n",
       "    </tr>\n",
       "    <tr>\n",
       "      <th>7</th>\n",
       "      <td>깜장커피</td>\n",
       "      <td>행당동</td>\n",
       "      <td>서울 성동구 왕십리로 223 2층</td>\n",
       "    </tr>\n",
       "    <tr>\n",
       "      <th>8</th>\n",
       "      <td>씨유마장현대점</td>\n",
       "      <td>마장동</td>\n",
       "      <td>서울 성동구 마장동 768-1 안민빌딩 109</td>\n",
       "    </tr>\n",
       "    <tr>\n",
       "      <th>9</th>\n",
       "      <td>홍단</td>\n",
       "      <td>성수동1가</td>\n",
       "      <td>서울특별시 성동구 광나루로 130 1206호 (성수동1가,12층)</td>\n",
       "    </tr>\n",
       "  </tbody>\n",
       "</table>\n",
       "</div>"
      ],
      "text/plain": [
       "          상호    소재지                                            주소\n",
       "0      거성레이져  성수동1가                          서울 성동구 상원길 23(성수동1가)\n",
       "1   명작 김진향한복  금호동4가                    서울 성동구 독서당로294, 2층 (금호동4가)\n",
       "2        남도집    도선동                      서울 성동구 왕십리로20길 9-1 (도선동)\n",
       "3      신도데이타  성수동2가                     서울 성동구 성수이로10길 81층(성수동2가)\n",
       "4       짱텔레콤    용답동                       서울 성동구 용답중앙15길 31층(용답동)\n",
       "5  법무사이두석사무소  성수동1가  서울 성동구 상원6나길 22-11, 205호 (성수동1가, 성동지역경제혁신센터)\n",
       "6   김종용누룽지통닭    행당동                           서울 성동구 마조로5길 7 1,2층\n",
       "7       깜장커피    행당동                            서울 성동구 왕십리로 223 2층\n",
       "8    씨유마장현대점    마장동                     서울 성동구 마장동 768-1 안민빌딩 109\n",
       "9         홍단  성수동1가          서울특별시 성동구 광나루로 130 1206호 (성수동1가,12층)"
      ]
     },
     "execution_count": 7,
     "metadata": {},
     "output_type": "execute_result"
    }
   ],
   "source": [
    "records = []\n",
    "for pg in tqdm(range(1, 1682), desc=\"페이지 스크래핑\"):\n",
    "    data = scrape_page(pg)\n",
    "    if not data:\n",
    "        break\n",
    "    records.extend(data)\n",
    "    time.sleep(0.2)\n",
    "\n",
    "df = pd.DataFrame(records)\n",
    "df.head(10)"
   ]
  },
  {
   "cell_type": "code",
   "execution_count": 8,
   "id": "27f78b11",
   "metadata": {},
   "outputs": [
    {
     "name": "stdout",
     "output_type": "stream",
     "text": [
      "✅ 총 16802건 저장 완료 → seongdong_coupons.csv\n"
     ]
    }
   ],
   "source": [
    "df.to_csv(\"seongdong_coupons.csv\", index=False, encoding=\"utf-8-sig\")\n",
    "print(f\"✅ 총 {len(df)}건 저장 완료 → seongdong_coupons.csv\")\n"
   ]
  }
 ],
 "metadata": {
  "kernelspec": {
   "display_name": "base",
   "language": "python",
   "name": "python3"
  },
  "language_info": {
   "codemirror_mode": {
    "name": "ipython",
    "version": 3
   },
   "file_extension": ".py",
   "mimetype": "text/x-python",
   "name": "python",
   "nbconvert_exporter": "python",
   "pygments_lexer": "ipython3",
   "version": "3.12.7"
  }
 },
 "nbformat": 4,
 "nbformat_minor": 5
}
